{
 "cells": [
  {
   "cell_type": "code",
   "execution_count": 1,
   "id": "fee60d7d",
   "metadata": {},
   "outputs": [],
   "source": [
    "import os\n",
    "import torch # was 20230913, now 20231013\n",
    "import torch.nn as nn\n",
    "import torch.nn.functional as F\n",
    "import numpy as np\n",
    "import time\n",
    "from typing import Callable, Union"
   ]
  },
  {
   "cell_type": "code",
   "execution_count": 2,
   "id": "d529c223",
   "metadata": {},
   "outputs": [],
   "source": [
    "from fms.models.llama import convert_hf_llama\n",
    "from transformers import LlamaForCausalLM"
   ]
  },
  {
   "cell_type": "code",
   "execution_count": 3,
   "id": "0e1cd81a",
   "metadata": {},
   "outputs": [],
   "source": [
    "from fms.models import get_model"
   ]
  },
  {
   "cell_type": "code",
   "execution_count": 4,
   "id": "30e89165",
   "metadata": {},
   "outputs": [],
   "source": [
    "model = get_model(\n",
    "    \"llama\",\n",
    "    \"7b\",\n",
    "    model_path=\"../../../llama_weights/7B-F/\",\n",
    "    device_type=\"cpu\",\n",
    "    source=\"meta\",\n",
    ")"
   ]
  },
  {
   "cell_type": "code",
   "execution_count": 5,
   "id": "57035028",
   "metadata": {},
   "outputs": [],
   "source": [
    "from fms.utils.generation import generate\n",
    "from transformers import AutoTokenizer\n",
    "t = AutoTokenizer.from_pretrained(\"hf-internal-testing/llama-tokenizer\")\n",
    "vinv = {v:k for k,v in t.vocab.items()}"
   ]
  },
  {
   "cell_type": "code",
   "execution_count": 6,
   "id": "5616faa8",
   "metadata": {},
   "outputs": [
    {
     "name": "stdout",
     "output_type": "stream",
     "text": [
      "['<s>', '▁Y', 'esterday', '▁is', '▁history', ',', '▁tom', 'orrow']\n"
     ]
    }
   ],
   "source": [
    "inp = t(\"Yesterday is history, tomorrow\")[\"input_ids\"]\n",
    "print([vinv[x] for x in inp])\n",
    "inp = torch.IntTensor(inp)"
   ]
  },
  {
   "cell_type": "code",
   "execution_count": 7,
   "id": "54197a6b",
   "metadata": {},
   "outputs": [
    {
     "name": "stdout",
     "output_type": "stream",
     "text": [
      "['<s>', '▁Hello', ',', '▁how', '▁are', '▁you', '▁today', '?']\n"
     ]
    }
   ],
   "source": [
    "inp2 = t(\"Hello, how are you today?\")[\"input_ids\"]\n",
    "print([vinv[x] for x in inp2])\n",
    "inp2 = torch.IntTensor(inp2)"
   ]
  },
  {
   "cell_type": "code",
   "execution_count": 8,
   "id": "908ec17b",
   "metadata": {},
   "outputs": [
    {
     "name": "stdout",
     "output_type": "stream",
     "text": [
      "['<s>', '▁The', '▁largest', '▁land', '▁dwell', 'ing', '▁animal', '▁is']\n"
     ]
    }
   ],
   "source": [
    "inp3 = t(\"The largest land dwelling animal is\")[\"input_ids\"]\n",
    "print([vinv[x] for x in inp3])\n",
    "inp3 = torch.IntTensor(inp3)"
   ]
  },
  {
   "cell_type": "code",
   "execution_count": 9,
   "id": "762260eb",
   "metadata": {},
   "outputs": [
    {
     "data": {
      "text/plain": [
       "\"<s> Yesterday is history, tomorrow is a mystery, but today is a gift.\\nThat's why they call it the present.\\n\\nThis quote is a reminder to\""
      ]
     },
     "execution_count": 9,
     "metadata": {},
     "output_type": "execute_result"
    }
   ],
   "source": [
    "oracle = generate(model, inp, 30, 30, do_sample=False, use_cache=True)\n",
    "t.decode(oracle.tolist())"
   ]
  },
  {
   "cell_type": "code",
   "execution_count": 10,
   "id": "848de82f",
   "metadata": {},
   "outputs": [
    {
     "data": {
      "text/plain": [
       "\"<s> Hello, how are you today? I'm doing well, thanks for asking! I'm excited to be here and share some of my thoughts and experiences with you.\\n\\n\""
      ]
     },
     "execution_count": 10,
     "metadata": {},
     "output_type": "execute_result"
    }
   ],
   "source": [
    "oracle = generate(model, inp2, 30, 30, do_sample=False, use_cache=True)\n",
    "t.decode(oracle.tolist())"
   ]
  },
  {
   "cell_type": "code",
   "execution_count": 11,
   "id": "77df8127",
   "metadata": {},
   "outputs": [
    {
     "data": {
      "text/plain": [
       "'<s> The largest land dwelling animal is the African elephant, which can weigh up to 6 tons (12,000 lbs or 5,40'"
      ]
     },
     "execution_count": 11,
     "metadata": {},
     "output_type": "execute_result"
    }
   ],
   "source": [
    "oracle = generate(model, inp3, 30, 30, do_sample=False, use_cache=True)\n",
    "t.decode(oracle.tolist())"
   ]
  },
  {
   "cell_type": "code",
   "execution_count": 12,
   "id": "2168d20d",
   "metadata": {},
   "outputs": [
    {
     "name": "stdout",
     "output_type": "stream",
     "text": [
      "tensor([    1,   612, 18358,   338,  4955, 29892,  6454, 22396],\n",
      "       dtype=torch.int32) tensor([    1, 15043, 29892,   920,   526,   366,  9826, 29973],\n",
      "       dtype=torch.int32) tensor([    1,   450, 10150,  2982, 24013,   292, 13019,   338],\n",
      "       dtype=torch.int32)\n"
     ]
    }
   ],
   "source": [
    "print(inp, inp2, inp3)"
   ]
  },
  {
   "cell_type": "code",
   "execution_count": 13,
   "id": "dc6fd98d",
   "metadata": {},
   "outputs": [
    {
     "data": {
      "text/plain": [
       "887119872"
      ]
     },
     "execution_count": 13,
     "metadata": {},
     "output_type": "execute_result"
    }
   ],
   "source": [
    "from fms.modules.speculator import Speculator\n",
    "\n",
    "test = Speculator(n_heads=3)\n",
    "test.load_state_dict(torch.load(\"../../../specu_recur_n2.pth\", map_location=\"cpu\")[\"model_state\"])\n",
    "sum(p.numel() for p in test.parameters())"
   ]
  },
  {
   "cell_type": "code",
   "execution_count": 14,
   "id": "aecabfbb",
   "metadata": {},
   "outputs": [
    {
     "name": "stdout",
     "output_type": "stream",
     "text": [
      "Speculation: ['orrow', '▁is', '▁the', '▁day'] n_correct: 1\n",
      "Updated output: ['<s>', '▁Y', 'esterday', '▁is', '▁history', ',', '▁tom', 'orrow', '▁is', '▁a']\n",
      "\n",
      "Speculation: ['▁a', '▁mystery', ',', '▁but'] n_correct: 3\n",
      "Updated output: ['<s>', '▁Y', 'esterday', '▁is', '▁history', ',', '▁tom', 'orrow', '▁is', '▁a', '▁mystery', ',', '▁but', '▁today']\n",
      "\n",
      "Speculation: ['▁today', '▁is', '▁a', '▁day'] n_correct: 2\n",
      "Updated output: ['<s>', '▁Y', 'esterday', '▁is', '▁history', ',', '▁tom', 'orrow', '▁is', '▁a', '▁mystery', ',', '▁but', '▁today', '▁is', '▁a', '▁gift']\n",
      "\n",
      "Speculation: ['▁gift', '.', '<0x0A>', 'I'] n_correct: 2\n",
      "Updated output: ['<s>', '▁Y', 'esterday', '▁is', '▁history', ',', '▁tom', 'orrow', '▁is', '▁a', '▁mystery', ',', '▁but', '▁today', '▁is', '▁a', '▁gift', '.', '<0x0A>', 'That']\n",
      "\n",
      "Speculation: ['That', \"'\", 's', '▁why'] n_correct: 3\n",
      "Updated output: ['<s>', '▁Y', 'esterday', '▁is', '▁history', ',', '▁tom', 'orrow', '▁is', '▁a', '▁mystery', ',', '▁but', '▁today', '▁is', '▁a', '▁gift', '.', '<0x0A>', 'That', \"'\", 's', '▁why', '▁they']\n",
      "\n",
      "Speculation: ['▁they', '▁call', '▁it', '▁the'] n_correct: 3\n",
      "Updated output: ['<s>', '▁Y', 'esterday', '▁is', '▁history', ',', '▁tom', 'orrow', '▁is', '▁a', '▁mystery', ',', '▁but', '▁today', '▁is', '▁a', '▁gift', '.', '<0x0A>', 'That', \"'\", 's', '▁why', '▁they', '▁call', '▁it', '▁the', '▁present']\n",
      "\n",
      "Speculation: ['▁present', '▁day', '▁is', '▁the'] n_correct: 0\n",
      "Updated output: ['<s>', '▁Y', 'esterday', '▁is', '▁history', ',', '▁tom', 'orrow', '▁is', '▁a', '▁mystery', ',', '▁but', '▁today', '▁is', '▁a', '▁gift', '.', '<0x0A>', 'That', \"'\", 's', '▁why', '▁they', '▁call', '▁it', '▁the', '▁present', '.']\n",
      "\n",
      "Speculation: ['.', '<0x0A>', 'In', '▁the'] n_correct: 1\n",
      "Updated output: ['<s>', '▁Y', 'esterday', '▁is', '▁history', ',', '▁tom', 'orrow', '▁is', '▁a', '▁mystery', ',', '▁but', '▁today', '▁is', '▁a', '▁gift', '.', '<0x0A>', 'That', \"'\", 's', '▁why', '▁they', '▁call', '▁it', '▁the', '▁present', '.', '<0x0A>', '<0x0A>']\n",
      "\n",
      "Speculation: ['<0x0A>', 'This', '▁is', '▁a'] n_correct: 1\n",
      "Updated output: ['<s>', '▁Y', 'esterday', '▁is', '▁history', ',', '▁tom', 'orrow', '▁is', '▁a', '▁mystery', ',', '▁but', '▁today', '▁is', '▁a', '▁gift', '.', '<0x0A>', 'That', \"'\", 's', '▁why', '▁they', '▁call', '▁it', '▁the', '▁present', '.', '<0x0A>', '<0x0A>', 'This', '▁quote']\n",
      "\n",
      "Speculation: ['▁quote', '▁is', '▁a', '▁quote'] n_correct: 2\n",
      "Updated output: ['<s>', '▁Y', 'esterday', '▁is', '▁history', ',', '▁tom', 'orrow', '▁is', '▁a', '▁mystery', ',', '▁but', '▁today', '▁is', '▁a', '▁gift', '.', '<0x0A>', 'That', \"'\", 's', '▁why', '▁they', '▁call', '▁it', '▁the', '▁present', '.', '<0x0A>', '<0x0A>', 'This', '▁quote', '▁is', '▁a', '▁rem']\n",
      "\n",
      "Speculation: ['▁rem', 'inder', '▁of', '▁the'] n_correct: 1\n",
      "Updated output: ['<s>', '▁Y', 'esterday', '▁is', '▁history', ',', '▁tom', 'orrow', '▁is', '▁a', '▁mystery', ',', '▁but', '▁today', '▁is', '▁a', '▁gift', '.', '<0x0A>', 'That', \"'\", 's', '▁why', '▁they', '▁call', '▁it', '▁the', '▁present', '.', '<0x0A>', '<0x0A>', 'This', '▁quote', '▁is', '▁a', '▁rem', 'inder', '▁to']\n",
      "\n",
      "\n",
      "Steps: 11\n"
     ]
    }
   ],
   "source": [
    "from fms.utils.generation import speculative_generate\n",
    "\n",
    "out, steps = speculative_generate(model, inp, test, 30, 30, top_k=5, threshes=[10,3,2], verbose_dict=t.vocab)\n",
    "print()\n",
    "print(\"Steps:\", steps)"
   ]
  },
  {
   "cell_type": "code",
   "execution_count": 15,
   "id": "2673540a",
   "metadata": {},
   "outputs": [
    {
     "name": "stdout",
     "output_type": "stream",
     "text": [
      "Speculation: ['?', '▁I', \"'\", 'm'] n_correct: 3\n",
      "Updated output: ['<s>', '▁Hello', ',', '▁how', '▁are', '▁you', '▁today', '?', '▁I', \"'\", 'm', '▁doing']\n",
      "\n",
      "Speculation: ['▁doing', '▁a', '▁great', '▁job'] n_correct: 0\n",
      "Updated output: ['<s>', '▁Hello', ',', '▁how', '▁are', '▁you', '▁today', '?', '▁I', \"'\", 'm', '▁doing', '▁well']\n",
      "\n",
      "Speculation: ['▁well', '.', '▁I', \"'\"] n_correct: 0\n",
      "Updated output: ['<s>', '▁Hello', ',', '▁how', '▁are', '▁you', '▁today', '?', '▁I', \"'\", 'm', '▁doing', '▁well', ',']\n",
      "\n",
      "Speculation: [',', '▁thanks', '▁for', '▁the'] n_correct: 2\n",
      "Updated output: ['<s>', '▁Hello', ',', '▁how', '▁are', '▁you', '▁today', '?', '▁I', \"'\", 'm', '▁doing', '▁well', ',', '▁thanks', '▁for', '▁asking']\n",
      "\n",
      "Speculation: ['▁asking', '!', '▁I', \"'\"] n_correct: 3\n",
      "Updated output: ['<s>', '▁Hello', ',', '▁how', '▁are', '▁you', '▁today', '?', '▁I', \"'\", 'm', '▁doing', '▁well', ',', '▁thanks', '▁for', '▁asking', '!', '▁I', \"'\", 'm']\n",
      "\n",
      "Speculation: ['m', '▁not', '▁sure', '▁how'] n_correct: 0\n",
      "Updated output: ['<s>', '▁Hello', ',', '▁how', '▁are', '▁you', '▁today', '?', '▁I', \"'\", 'm', '▁doing', '▁well', ',', '▁thanks', '▁for', '▁asking', '!', '▁I', \"'\", 'm', '▁excited']\n",
      "\n",
      "Speculation: ['▁excited', '▁to', '▁be', '▁here'] n_correct: 3\n",
      "Updated output: ['<s>', '▁Hello', ',', '▁how', '▁are', '▁you', '▁today', '?', '▁I', \"'\", 'm', '▁doing', '▁well', ',', '▁thanks', '▁for', '▁asking', '!', '▁I', \"'\", 'm', '▁excited', '▁to', '▁be', '▁here', '▁and']\n",
      "\n",
      "Speculation: ['▁and', '▁talking', '▁with', '▁you'] n_correct: 0\n",
      "Updated output: ['<s>', '▁Hello', ',', '▁how', '▁are', '▁you', '▁today', '?', '▁I', \"'\", 'm', '▁doing', '▁well', ',', '▁thanks', '▁for', '▁asking', '!', '▁I', \"'\", 'm', '▁excited', '▁to', '▁be', '▁here', '▁and', '▁share']\n",
      "\n",
      "Speculation: ['▁share', '▁your', '▁thoughts', '▁and'] n_correct: 0\n",
      "Updated output: ['<s>', '▁Hello', ',', '▁how', '▁are', '▁you', '▁today', '?', '▁I', \"'\", 'm', '▁doing', '▁well', ',', '▁thanks', '▁for', '▁asking', '!', '▁I', \"'\", 'm', '▁excited', '▁to', '▁be', '▁here', '▁and', '▁share', '▁some']\n",
      "\n",
      "Speculation: ['▁some', '▁knowledge', '▁with', '▁you'] n_correct: 0\n",
      "Updated output: ['<s>', '▁Hello', ',', '▁how', '▁are', '▁you', '▁today', '?', '▁I', \"'\", 'm', '▁doing', '▁well', ',', '▁thanks', '▁for', '▁asking', '!', '▁I', \"'\", 'm', '▁excited', '▁to', '▁be', '▁here', '▁and', '▁share', '▁some', '▁of']\n",
      "\n",
      "Speculation: ['▁of', '▁my', '▁thoughts', '▁with'] n_correct: 2\n",
      "Updated output: ['<s>', '▁Hello', ',', '▁how', '▁are', '▁you', '▁today', '?', '▁I', \"'\", 'm', '▁doing', '▁well', ',', '▁thanks', '▁for', '▁asking', '!', '▁I', \"'\", 'm', '▁excited', '▁to', '▁be', '▁here', '▁and', '▁share', '▁some', '▁of', '▁my', '▁thoughts', '▁and']\n",
      "\n",
      "Speculation: ['▁and', '▁experiences', '▁with', '▁you'] n_correct: 3\n",
      "Updated output: ['<s>', '▁Hello', ',', '▁how', '▁are', '▁you', '▁today', '?', '▁I', \"'\", 'm', '▁doing', '▁well', ',', '▁thanks', '▁for', '▁asking', '!', '▁I', \"'\", 'm', '▁excited', '▁to', '▁be', '▁here', '▁and', '▁share', '▁some', '▁of', '▁my', '▁thoughts', '▁and', '▁experiences', '▁with', '▁you', '.']\n",
      "\n",
      "Speculation: ['.', '▁I', \"'\", 'm'] n_correct: 0\n",
      "Updated output: ['<s>', '▁Hello', ',', '▁how', '▁are', '▁you', '▁today', '?', '▁I', \"'\", 'm', '▁doing', '▁well', ',', '▁thanks', '▁for', '▁asking', '!', '▁I', \"'\", 'm', '▁excited', '▁to', '▁be', '▁here', '▁and', '▁share', '▁some', '▁of', '▁my', '▁thoughts', '▁and', '▁experiences', '▁with', '▁you', '.', '<0x0A>']\n",
      "\n",
      "Speculation: ['<0x0A>', 'I', \"'\", 'm'] n_correct: 0\n",
      "Updated output: ['<s>', '▁Hello', ',', '▁how', '▁are', '▁you', '▁today', '?', '▁I', \"'\", 'm', '▁doing', '▁well', ',', '▁thanks', '▁for', '▁asking', '!', '▁I', \"'\", 'm', '▁excited', '▁to', '▁be', '▁here', '▁and', '▁share', '▁some', '▁of', '▁my', '▁thoughts', '▁and', '▁experiences', '▁with', '▁you', '.', '<0x0A>', '<0x0A>']\n",
      "\n",
      "\n",
      "Steps: 14\n"
     ]
    }
   ],
   "source": [
    "from fms.utils.generation import speculative_generate\n",
    "\n",
    "out, steps = speculative_generate(model, inp2, test, 30, 30, top_k=5, threshes=[10,3,2], verbose_dict=t.vocab)\n",
    "print()\n",
    "print(\"Steps:\", steps)"
   ]
  },
  {
   "cell_type": "code",
   "execution_count": 16,
   "id": "aeff15c9",
   "metadata": {},
   "outputs": [
    {
     "name": "stdout",
     "output_type": "stream",
     "text": [
      "Speculation: ['▁is', '▁the', '▁ele', 'ph'] n_correct: 1\n",
      "Updated output: ['<s>', '▁The', '▁largest', '▁land', '▁dwell', 'ing', '▁animal', '▁is', '▁the', '▁African']\n",
      "\n",
      "Speculation: ['▁African', '▁ele', 'ph', 'ant'] n_correct: 3\n",
      "Updated output: ['<s>', '▁The', '▁largest', '▁land', '▁dwell', 'ing', '▁animal', '▁is', '▁the', '▁African', '▁ele', 'ph', 'ant', ',']\n",
      "\n",
      "Speculation: [',', '▁which', '▁is', '▁the'] n_correct: 1\n",
      "Updated output: ['<s>', '▁The', '▁largest', '▁land', '▁dwell', 'ing', '▁animal', '▁is', '▁the', '▁African', '▁ele', 'ph', 'ant', ',', '▁which', '▁can']\n",
      "\n",
      "Speculation: ['▁can', '▁reach', '▁up', '▁to'] n_correct: 0\n",
      "Updated output: ['<s>', '▁The', '▁largest', '▁land', '▁dwell', 'ing', '▁animal', '▁is', '▁the', '▁African', '▁ele', 'ph', 'ant', ',', '▁which', '▁can', '▁we']\n",
      "\n",
      "Speculation: ['▁we', 'igh', '▁up', '▁to'] n_correct: 3\n",
      "Updated output: ['<s>', '▁The', '▁largest', '▁land', '▁dwell', 'ing', '▁animal', '▁is', '▁the', '▁African', '▁ele', 'ph', 'ant', ',', '▁which', '▁can', '▁we', 'igh', '▁up', '▁to', '▁']\n",
      "\n",
      "Speculation: ['▁', '6', ',', '0'] n_correct: 1\n",
      "Updated output: ['<s>', '▁The', '▁largest', '▁land', '▁dwell', 'ing', '▁animal', '▁is', '▁the', '▁African', '▁ele', 'ph', 'ant', ',', '▁which', '▁can', '▁we', 'igh', '▁up', '▁to', '▁', '6', '▁tons']\n",
      "\n",
      "Speculation: ['▁tons', '▁(', '1', ','] n_correct: 2\n",
      "Updated output: ['<s>', '▁The', '▁largest', '▁land', '▁dwell', 'ing', '▁animal', '▁is', '▁the', '▁African', '▁ele', 'ph', 'ant', ',', '▁which', '▁can', '▁we', 'igh', '▁up', '▁to', '▁', '6', '▁tons', '▁(', '1', '2']\n",
      "\n",
      "Speculation: ['2', ',', '0', '0'] n_correct: 3\n",
      "Updated output: ['<s>', '▁The', '▁largest', '▁land', '▁dwell', 'ing', '▁animal', '▁is', '▁the', '▁African', '▁ele', 'ph', 'ant', ',', '▁which', '▁can', '▁we', 'igh', '▁up', '▁to', '▁', '6', '▁tons', '▁(', '1', '2', ',', '0', '0', '0']\n",
      "\n",
      "Speculation: ['0', '▁l', 'bs', ')'] n_correct: 2\n",
      "Updated output: ['<s>', '▁The', '▁largest', '▁land', '▁dwell', 'ing', '▁animal', '▁is', '▁the', '▁African', '▁ele', 'ph', 'ant', ',', '▁which', '▁can', '▁we', 'igh', '▁up', '▁to', '▁', '6', '▁tons', '▁(', '1', '2', ',', '0', '0', '0', '▁l', 'bs', '▁or']\n",
      "\n",
      "Speculation: ['▁or', '▁', '1', '1'] n_correct: 1\n",
      "Updated output: ['<s>', '▁The', '▁largest', '▁land', '▁dwell', 'ing', '▁animal', '▁is', '▁the', '▁African', '▁ele', 'ph', 'ant', ',', '▁which', '▁can', '▁we', 'igh', '▁up', '▁to', '▁', '6', '▁tons', '▁(', '1', '2', ',', '0', '0', '0', '▁l', 'bs', '▁or', '▁', '5']\n",
      "\n",
      "Speculation: ['5', ',', '0', '0'] n_correct: 1\n",
      "Updated output: ['<s>', '▁The', '▁largest', '▁land', '▁dwell', 'ing', '▁animal', '▁is', '▁the', '▁African', '▁ele', 'ph', 'ant', ',', '▁which', '▁can', '▁we', 'igh', '▁up', '▁to', '▁', '6', '▁tons', '▁(', '1', '2', ',', '0', '0', '0', '▁l', 'bs', '▁or', '▁', '5', ',', '4']\n",
      "\n",
      "Speculation: ['4', '0', '0', '▁kg'] n_correct: 3\n",
      "Updated output: ['<s>', '▁The', '▁largest', '▁land', '▁dwell', 'ing', '▁animal', '▁is', '▁the', '▁African', '▁ele', 'ph', 'ant', ',', '▁which', '▁can', '▁we', 'igh', '▁up', '▁to', '▁', '6', '▁tons', '▁(', '1', '2', ',', '0', '0', '0', '▁l', 'bs', '▁or', '▁', '5', ',', '4', '0', '0', '▁kg', ')']\n",
      "\n",
      "\n",
      "Steps: 12\n"
     ]
    }
   ],
   "source": [
    "from fms.utils.generation import speculative_generate\n",
    "\n",
    "out, steps = speculative_generate(model, inp3, test, 30, 30, top_k=5, threshes=[10,3,2], verbose_dict=t.vocab)\n",
    "print()\n",
    "print(\"Steps:\", steps)"
   ]
  },
  {
   "cell_type": "code",
   "execution_count": null,
   "id": "0eeebbcd",
   "metadata": {},
   "outputs": [],
   "source": []
  },
  {
   "cell_type": "code",
   "execution_count": null,
   "id": "b2d584b1",
   "metadata": {},
   "outputs": [],
   "source": []
  },
  {
   "cell_type": "code",
   "execution_count": null,
   "id": "390bb815",
   "metadata": {},
   "outputs": [],
   "source": []
  },
  {
   "cell_type": "code",
   "execution_count": null,
   "id": "97d8c35c",
   "metadata": {},
   "outputs": [],
   "source": []
  }
 ],
 "metadata": {
  "kernelspec": {
   "display_name": "Python 3 (ipykernel)",
   "language": "python",
   "name": "python3"
  },
  "language_info": {
   "codemirror_mode": {
    "name": "ipython",
    "version": 3
   },
   "file_extension": ".py",
   "mimetype": "text/x-python",
   "name": "python",
   "nbconvert_exporter": "python",
   "pygments_lexer": "ipython3",
   "version": "3.8.18"
  }
 },
 "nbformat": 4,
 "nbformat_minor": 5
}
