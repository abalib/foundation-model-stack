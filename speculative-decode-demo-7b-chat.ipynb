{
 "cells": [
  {
   "cell_type": "code",
   "execution_count": 1,
   "id": "fee60d7d",
   "metadata": {},
   "outputs": [],
   "source": [
    "import os\n",
    "import torch # was 20230913, now 20231013\n",
    "import torch.nn as nn\n",
    "import torch.nn.functional as F\n",
    "import numpy as np\n",
    "import time\n",
    "from typing import Callable, Union"
   ]
  },
  {
   "cell_type": "code",
   "execution_count": 2,
   "id": "d529c223",
   "metadata": {},
   "outputs": [],
   "source": [
    "from fms.models.llama import convert_hf_llama\n",
    "from transformers import LlamaForCausalLM"
   ]
  },
  {
   "cell_type": "code",
   "execution_count": 3,
   "id": "0e1cd81a",
   "metadata": {},
   "outputs": [],
   "source": [
    "from fms.models import get_model"
   ]
  },
  {
   "cell_type": "code",
   "execution_count": 4,
   "id": "30e89165",
   "metadata": {},
   "outputs": [],
   "source": [
    "model = get_model(\n",
    "    \"llama\",\n",
    "    \"7b\",\n",
    "    model_path=\"../../../llama_weights/7B-F/\",\n",
    "    device_type=\"cpu\",\n",
    "    source=\"meta\",\n",
    ")"
   ]
  },
  {
   "cell_type": "code",
   "execution_count": 5,
   "id": "57035028",
   "metadata": {},
   "outputs": [],
   "source": [
    "from fms.utils.generation import generate\n",
    "from transformers import AutoTokenizer\n",
    "t = AutoTokenizer.from_pretrained(\"hf-internal-testing/llama-tokenizer\")\n",
    "vinv = {v:k for k,v in t.vocab.items()}"
   ]
  },
  {
   "cell_type": "code",
   "execution_count": 6,
   "id": "5616faa8",
   "metadata": {},
   "outputs": [
    {
     "name": "stdout",
     "output_type": "stream",
     "text": [
      "['<s>', '▁Y', 'esterday', '▁is', '▁history', ',', '▁tom', 'orrow', '▁is', '▁a', '▁mystery', ',', '▁today']\n"
     ]
    }
   ],
   "source": [
    "inp1 = t(\"Yesterday is history, tomorrow is a mystery, today\")[\"input_ids\"]\n",
    "print([vinv[x] for x in inp1])\n",
    "inp1 = torch.IntTensor(inp1)"
   ]
  },
  {
   "cell_type": "code",
   "execution_count": 7,
   "id": "762260eb",
   "metadata": {},
   "outputs": [
    {
     "data": {
      "text/plain": [
       "\"<s> Yesterday is history, tomorrow is a mystery, today is a gift.\\nThat's why they call it the present.\\n\\nThis quote is a reminder to appreciate the present moment and not\""
      ]
     },
     "execution_count": 7,
     "metadata": {},
     "output_type": "execute_result"
    }
   ],
   "source": [
    "oracle = generate(model, inp1, 4096, 30, do_sample=False, use_cache=True)\n",
    "t.decode(oracle.tolist())"
   ]
  },
  {
   "cell_type": "code",
   "execution_count": 8,
   "id": "e91bfe80",
   "metadata": {},
   "outputs": [
    {
     "name": "stdout",
     "output_type": "stream",
     "text": [
      "['<s>', '▁Hello', ',', '▁how', '▁are', '▁you', '▁today', '?']\n"
     ]
    }
   ],
   "source": [
    "text2 = \"Hello, how are you today?\"\n",
    "inp2 = t(text2)[\"input_ids\"]\n",
    "# inp = t(\"Yesterday is history, tomorrow is a mystery, today\")[\"input_ids\"]\n",
    "print([vinv[x] for x in inp2])\n",
    "inp2 = torch.IntTensor(inp2)"
   ]
  },
  {
   "cell_type": "code",
   "execution_count": 9,
   "id": "658ab895",
   "metadata": {},
   "outputs": [
    {
     "data": {
      "text/plain": [
       "\"<s> Hello, how are you today? I'm doing well, thanks for asking! I'm excited to be here and share some of my thoughts and experiences with you.\\n\\n\""
      ]
     },
     "execution_count": 9,
     "metadata": {},
     "output_type": "execute_result"
    }
   ],
   "source": [
    "oracle = generate(model, inp2, 4096, 30, do_sample=False, use_cache=True)\n",
    "t.decode(oracle.tolist())"
   ]
  },
  {
   "cell_type": "code",
   "execution_count": 11,
   "id": "c4533ada",
   "metadata": {},
   "outputs": [],
   "source": [
    "inp = [inp1,inp2]"
   ]
  },
  {
   "cell_type": "code",
   "execution_count": 12,
   "id": "dc6fd98d",
   "metadata": {},
   "outputs": [
    {
     "data": {
      "text/plain": [
       "887119872"
      ]
     },
     "execution_count": 12,
     "metadata": {},
     "output_type": "execute_result"
    }
   ],
   "source": [
    "from fms.modules.speculator import Speculator\n",
    "\n",
    "test = Speculator(n_heads=3)\n",
    "test.load_state_dict(torch.load(\"../../../specu_recur_n2.pth\", map_location=\"cpu\")[\"model_state\"])\n",
    "sum(p.numel() for p in test.parameters())"
   ]
  },
  {
   "cell_type": "code",
   "execution_count": 13,
   "id": "aecabfbb",
   "metadata": {
    "scrolled": false
   },
   "outputs": [
    {
     "name": "stdout",
     "output_type": "stream",
     "text": [
      "Speculation: ['▁today', '▁is', '▁the', '▁day'] n_correct: 1\n",
      "Speculation: ['?', '▁I', \"'\", 'm'] n_correct: 3\n",
      "Updated output: ['<s>', '▁Y', 'esterday', '▁is', '▁history', ',', '▁tom', 'orrow', '▁is', '▁a', '▁mystery', ',', '▁today', '▁is', '▁a']\n",
      "Updated output: ['<s>', '▁Hello', ',', '▁how', '▁are', '▁you', '▁today', '?', '▁I', \"'\", 'm', '▁doing']\n",
      "\n",
      "Speculation: ['▁a', '▁gift', '.', '<0x0A>'] n_correct: 3\n",
      "Speculation: ['▁doing', '▁a', '▁great', '▁job'] n_correct: 0\n",
      "Updated output: ['<s>', '▁Y', 'esterday', '▁is', '▁history', ',', '▁tom', 'orrow', '▁is', '▁a', '▁mystery', ',', '▁today', '▁is', '▁a', '▁gift', '.', '<0x0A>', 'That']\n",
      "Updated output: ['<s>', '▁Hello', ',', '▁how', '▁are', '▁you', '▁today', '?', '▁I', \"'\", 'm', '▁doing', '▁well']\n",
      "\n",
      "Speculation: ['That', \"'\", 's', '▁why'] n_correct: 3\n",
      "Speculation: ['▁well', '.', '▁I', \"'\"] n_correct: 0\n",
      "Updated output: ['<s>', '▁Y', 'esterday', '▁is', '▁history', ',', '▁tom', 'orrow', '▁is', '▁a', '▁mystery', ',', '▁today', '▁is', '▁a', '▁gift', '.', '<0x0A>', 'That', \"'\", 's', '▁why', '▁they']\n",
      "Updated output: ['<s>', '▁Hello', ',', '▁how', '▁are', '▁you', '▁today', '?', '▁I', \"'\", 'm', '▁doing', '▁well', ',']\n",
      "\n",
      "Speculation: ['▁they', '▁call', '▁it', '▁the'] n_correct: 3\n",
      "Speculation: [',', '▁thanks', '▁for', '▁the'] n_correct: 2\n",
      "Updated output: ['<s>', '▁Y', 'esterday', '▁is', '▁history', ',', '▁tom', 'orrow', '▁is', '▁a', '▁mystery', ',', '▁today', '▁is', '▁a', '▁gift', '.', '<0x0A>', 'That', \"'\", 's', '▁why', '▁they', '▁call', '▁it', '▁the', '▁present']\n",
      "Updated output: ['<s>', '▁Hello', ',', '▁how', '▁are', '▁you', '▁today', '?', '▁I', \"'\", 'm', '▁doing', '▁well', ',', '▁thanks', '▁for', '▁asking']\n",
      "\n",
      "Speculation: ['▁present', '▁day', '▁is', '▁the'] n_correct: 0\n",
      "Speculation: ['▁asking', '!', '▁I', \"'\"] n_correct: 3\n",
      "Updated output: ['<s>', '▁Y', 'esterday', '▁is', '▁history', ',', '▁tom', 'orrow', '▁is', '▁a', '▁mystery', ',', '▁today', '▁is', '▁a', '▁gift', '.', '<0x0A>', 'That', \"'\", 's', '▁why', '▁they', '▁call', '▁it', '▁the', '▁present', '.']\n",
      "Updated output: ['<s>', '▁Hello', ',', '▁how', '▁are', '▁you', '▁today', '?', '▁I', \"'\", 'm', '▁doing', '▁well', ',', '▁thanks', '▁for', '▁asking', '!', '▁I', \"'\", 'm']\n",
      "\n",
      "Speculation: ['.', '<0x0A>', 'In', '▁the'] n_correct: 1\n",
      "Speculation: ['m', '▁not', '▁sure', '▁how'] n_correct: 0\n",
      "Updated output: ['<s>', '▁Y', 'esterday', '▁is', '▁history', ',', '▁tom', 'orrow', '▁is', '▁a', '▁mystery', ',', '▁today', '▁is', '▁a', '▁gift', '.', '<0x0A>', 'That', \"'\", 's', '▁why', '▁they', '▁call', '▁it', '▁the', '▁present', '.', '<0x0A>', '<0x0A>']\n",
      "Updated output: ['<s>', '▁Hello', ',', '▁how', '▁are', '▁you', '▁today', '?', '▁I', \"'\", 'm', '▁doing', '▁well', ',', '▁thanks', '▁for', '▁asking', '!', '▁I', \"'\", 'm', '▁excited']\n",
      "\n",
      "Speculation: ['<0x0A>', 'This', '▁is', '▁a'] n_correct: 1\n",
      "Speculation: ['▁excited', '▁to', '▁be', '▁here'] n_correct: 3\n",
      "Updated output: ['<s>', '▁Y', 'esterday', '▁is', '▁history', ',', '▁tom', 'orrow', '▁is', '▁a', '▁mystery', ',', '▁today', '▁is', '▁a', '▁gift', '.', '<0x0A>', 'That', \"'\", 's', '▁why', '▁they', '▁call', '▁it', '▁the', '▁present', '.', '<0x0A>', '<0x0A>', 'This', '▁quote']\n",
      "Updated output: ['<s>', '▁Hello', ',', '▁how', '▁are', '▁you', '▁today', '?', '▁I', \"'\", 'm', '▁doing', '▁well', ',', '▁thanks', '▁for', '▁asking', '!', '▁I', \"'\", 'm', '▁excited', '▁to', '▁be', '▁here', '▁and']\n",
      "\n",
      "Speculation: ['▁quote', '▁is', '▁a', '▁quote'] n_correct: 2\n",
      "Speculation: ['▁and', '▁talking', '▁with', '▁you'] n_correct: 0\n",
      "Updated output: ['<s>', '▁Y', 'esterday', '▁is', '▁history', ',', '▁tom', 'orrow', '▁is', '▁a', '▁mystery', ',', '▁today', '▁is', '▁a', '▁gift', '.', '<0x0A>', 'That', \"'\", 's', '▁why', '▁they', '▁call', '▁it', '▁the', '▁present', '.', '<0x0A>', '<0x0A>', 'This', '▁quote', '▁is', '▁a', '▁rem']\n",
      "Updated output: ['<s>', '▁Hello', ',', '▁how', '▁are', '▁you', '▁today', '?', '▁I', \"'\", 'm', '▁doing', '▁well', ',', '▁thanks', '▁for', '▁asking', '!', '▁I', \"'\", 'm', '▁excited', '▁to', '▁be', '▁here', '▁and', '▁share']\n",
      "\n",
      "Speculation: ['▁rem', 'inder', '▁of', '▁the'] n_correct: 1\n",
      "Speculation: ['▁share', '▁your', '▁thoughts', '▁and'] n_correct: 0\n",
      "Updated output: ['<s>', '▁Y', 'esterday', '▁is', '▁history', ',', '▁tom', 'orrow', '▁is', '▁a', '▁mystery', ',', '▁today', '▁is', '▁a', '▁gift', '.', '<0x0A>', 'That', \"'\", 's', '▁why', '▁they', '▁call', '▁it', '▁the', '▁present', '.', '<0x0A>', '<0x0A>', 'This', '▁quote', '▁is', '▁a', '▁rem', 'inder', '▁to']\n",
      "Updated output: ['<s>', '▁Hello', ',', '▁how', '▁are', '▁you', '▁today', '?', '▁I', \"'\", 'm', '▁doing', '▁well', ',', '▁thanks', '▁for', '▁asking', '!', '▁I', \"'\", 'm', '▁excited', '▁to', '▁be', '▁here', '▁and', '▁share', '▁some']\n",
      "\n",
      "Speculation: ['▁to', '▁us', '▁that', '▁we'] n_correct: 0\n",
      "Speculation: ['▁some', '▁knowledge', '▁with', '▁you'] n_correct: 0\n",
      "Updated output: ['<s>', '▁Y', 'esterday', '▁is', '▁history', ',', '▁tom', 'orrow', '▁is', '▁a', '▁mystery', ',', '▁today', '▁is', '▁a', '▁gift', '.', '<0x0A>', 'That', \"'\", 's', '▁why', '▁they', '▁call', '▁it', '▁the', '▁present', '.', '<0x0A>', '<0x0A>', 'This', '▁quote', '▁is', '▁a', '▁rem', 'inder', '▁to', '▁appreciate']\n",
      "Updated output: ['<s>', '▁Hello', ',', '▁how', '▁are', '▁you', '▁today', '?', '▁I', \"'\", 'm', '▁doing', '▁well', ',', '▁thanks', '▁for', '▁asking', '!', '▁I', \"'\", 'm', '▁excited', '▁to', '▁be', '▁here', '▁and', '▁share', '▁some', '▁of']\n",
      "\n",
      "Speculation: ['▁appreciate', '▁the', '▁moment', '.'] n_correct: 1\n",
      "Speculation: ['▁of', '▁my', '▁thoughts', '▁with'] n_correct: 2\n",
      "Updated output: ['<s>', '▁Y', 'esterday', '▁is', '▁history', ',', '▁tom', 'orrow', '▁is', '▁a', '▁mystery', ',', '▁today', '▁is', '▁a', '▁gift', '.', '<0x0A>', 'That', \"'\", 's', '▁why', '▁they', '▁call', '▁it', '▁the', '▁present', '.', '<0x0A>', '<0x0A>', 'This', '▁quote', '▁is', '▁a', '▁rem', 'inder', '▁to', '▁appreciate', '▁the', '▁present']\n",
      "Updated output: ['<s>', '▁Hello', ',', '▁how', '▁are', '▁you', '▁today', '?', '▁I', \"'\", 'm', '▁doing', '▁well', ',', '▁thanks', '▁for', '▁asking', '!', '▁I', \"'\", 'm', '▁excited', '▁to', '▁be', '▁here', '▁and', '▁share', '▁some', '▁of', '▁my', '▁thoughts', '▁and']\n",
      "\n",
      "Speculation: ['▁present', '▁moment', '▁and', '▁to'] n_correct: 2\n",
      "Speculation: ['▁and', '▁experiences', '▁with', '▁you'] n_correct: 3\n",
      "Updated output: ['<s>', '▁Y', 'esterday', '▁is', '▁history', ',', '▁tom', 'orrow', '▁is', '▁a', '▁mystery', ',', '▁today', '▁is', '▁a', '▁gift', '.', '<0x0A>', 'That', \"'\", 's', '▁why', '▁they', '▁call', '▁it', '▁the', '▁present', '.', '<0x0A>', '<0x0A>', 'This', '▁quote', '▁is', '▁a', '▁rem', 'inder', '▁to', '▁appreciate', '▁the', '▁present', '▁moment', '▁and', '▁not']\n",
      "Updated output: ['<s>', '▁Hello', ',', '▁how', '▁are', '▁you', '▁today', '?', '▁I', \"'\", 'm', '▁doing', '▁well', ',', '▁thanks', '▁for', '▁asking', '!', '▁I', \"'\", 'm', '▁excited', '▁to', '▁be', '▁here', '▁and', '▁share', '▁some', '▁of', '▁my', '▁thoughts', '▁and', '▁experiences', '▁with', '▁you', '.']\n",
      "\n",
      "Speculation: ['▁not', '▁to', '▁make', '▁it'] n_correct: 0\n",
      "Speculation: ['.', '▁I', \"'\", 'm'] n_correct: 0\n",
      "Updated output: ['<s>', '▁Y', 'esterday', '▁is', '▁history', ',', '▁tom', 'orrow', '▁is', '▁a', '▁mystery', ',', '▁today', '▁is', '▁a', '▁gift', '.', '<0x0A>', 'That', \"'\", 's', '▁why', '▁they', '▁call', '▁it', '▁the', '▁present', '.', '<0x0A>', '<0x0A>', 'This', '▁quote', '▁is', '▁a', '▁rem', 'inder', '▁to', '▁appreciate', '▁the', '▁present', '▁moment', '▁and', '▁not', '▁dwell']\n",
      "Updated output: ['<s>', '▁Hello', ',', '▁how', '▁are', '▁you', '▁today', '?', '▁I', \"'\", 'm', '▁doing', '▁well', ',', '▁thanks', '▁for', '▁asking', '!', '▁I', \"'\", 'm', '▁excited', '▁to', '▁be', '▁here', '▁and', '▁share', '▁some', '▁of', '▁my', '▁thoughts', '▁and', '▁experiences', '▁with', '▁you', '.', '<0x0A>']\n",
      "\n",
      "Speculation: ['▁dwell', '▁too', '▁much', '▁on'] n_correct: 3\n",
      "Speculation: ['<0x0A>', 'I', \"'\", 'm'] n_correct: 0\n",
      "Updated output: ['<s>', '▁Y', 'esterday', '▁is', '▁history', ',', '▁tom', 'orrow', '▁is', '▁a', '▁mystery', ',', '▁today', '▁is', '▁a', '▁gift', '.', '<0x0A>', 'That', \"'\", 's', '▁why', '▁they', '▁call', '▁it', '▁the', '▁present', '.', '<0x0A>', '<0x0A>', 'This', '▁quote', '▁is', '▁a', '▁rem', 'inder', '▁to', '▁appreciate', '▁the', '▁present', '▁moment', '▁and', '▁not', '▁dwell', '▁too', '▁much', '▁on', '▁the']\n",
      "Updated output: ['<s>', '▁Hello', ',', '▁how', '▁are', '▁you', '▁today', '?', '▁I', \"'\", 'm', '▁doing', '▁well', ',', '▁thanks', '▁for', '▁asking', '!', '▁I', \"'\", 'm', '▁excited', '▁to', '▁be', '▁here', '▁and', '▁share', '▁some', '▁of', '▁my', '▁thoughts', '▁and', '▁experiences', '▁with', '▁you', '.', '<0x0A>', '<0x0A>']\n",
      "\n"
     ]
    },
    {
     "name": "stdout",
     "output_type": "stream",
     "text": [
      "\n",
      "Steps: 14\n"
     ]
    }
   ],
   "source": [
    "from fms.utils.generation import speculative_generate\n",
    "\n",
    "out, steps = speculative_generate(model, inp, test, 4096, 30, top_k=5, threshes=[5,3,2], verbose_dict=t.vocab)\n",
    "print()\n",
    "print(\"Steps:\", steps)"
   ]
  },
  {
   "cell_type": "code",
   "execution_count": null,
   "id": "3904e961",
   "metadata": {},
   "outputs": [],
   "source": []
  },
  {
   "cell_type": "code",
   "execution_count": null,
   "id": "afda273e",
   "metadata": {},
   "outputs": [],
   "source": []
  }
 ],
 "metadata": {
  "kernelspec": {
   "display_name": "Python 3 (ipykernel)",
   "language": "python",
   "name": "python3"
  },
  "language_info": {
   "codemirror_mode": {
    "name": "ipython",
    "version": 3
   },
   "file_extension": ".py",
   "mimetype": "text/x-python",
   "name": "python",
   "nbconvert_exporter": "python",
   "pygments_lexer": "ipython3",
   "version": "3.8.18"
  }
 },
 "nbformat": 4,
 "nbformat_minor": 5
}
