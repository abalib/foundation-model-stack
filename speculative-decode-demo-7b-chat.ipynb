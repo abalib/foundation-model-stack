{
 "cells": [
  {
   "cell_type": "code",
   "execution_count": 1,
   "id": "fee60d7d",
   "metadata": {},
   "outputs": [],
   "source": [
    "import os\n",
    "import torch # was 20230913, now 20231013\n",
    "import torch.nn as nn\n",
    "import torch.nn.functional as F\n",
    "import numpy as np\n",
    "import time\n",
    "from typing import Callable, Union"
   ]
  },
  {
   "cell_type": "code",
   "execution_count": null,
   "id": "d529c223",
   "metadata": {},
   "outputs": [],
   "source": [
    "from fms.models.llama import convert_hf_llama\n",
    "from transformers import LlamaForCausalLM"
   ]
  },
  {
   "cell_type": "code",
   "execution_count": 3,
   "id": "0e1cd81a",
   "metadata": {},
   "outputs": [],
   "source": [
    "from fms.models import get_model"
   ]
  },
  {
   "cell_type": "code",
   "execution_count": 4,
   "id": "30e89165",
   "metadata": {},
   "outputs": [],
   "source": [
    "model = get_model(\n",
    "    \"llama\",\n",
    "    \"7b\",\n",
    "    model_path=\"../../../llama_weights/7B-F/\",\n",
    "    device_type=\"cpu\",\n",
    "    source=\"meta\",\n",
    ")"
   ]
  },
  {
   "cell_type": "code",
   "execution_count": 5,
   "id": "57035028",
   "metadata": {},
   "outputs": [],
   "source": [
    "from fms.utils.generation import generate\n",
    "from transformers import AutoTokenizer\n",
    "t = AutoTokenizer.from_pretrained(\"hf-internal-testing/llama-tokenizer\")\n",
    "vinv = {v:k for k,v in t.vocab.items()}"
   ]
  },
  {
   "cell_type": "code",
   "execution_count": 6,
   "id": "5616faa8",
   "metadata": {},
   "outputs": [
    {
     "name": "stdout",
     "output_type": "stream",
     "text": [
      "['<s>', '▁Y', 'esterday', '▁is', '▁history', ',', '▁tom', 'orrow', '▁is', '▁a', '▁mystery', ',', '▁today']\n"
     ]
    }
   ],
   "source": [
    "inp = t(\"Yesterday is history, tomorrow is a mystery, today\")[\"input_ids\"]\n",
    "print([vinv[x] for x in inp])\n",
    "inp = torch.IntTensor(inp)"
   ]
  },
  {
   "cell_type": "code",
   "execution_count": 12,
   "id": "762260eb",
   "metadata": {},
   "outputs": [
    {
     "data": {
      "text/plain": [
       "\"<s> Yesterday is history, tomorrow is a mystery, today is a gift.\\nThat's why they call it the present.\\n\\nThis quote is a reminder to appreciate the present moment and not\""
      ]
     },
     "execution_count": 12,
     "metadata": {},
     "output_type": "execute_result"
    }
   ],
   "source": [
    "oracle = generate(model, inp, 30, 30, do_sample=False, use_cache=True)\n",
    "t.decode(oracle.tolist())"
   ]
  },
  {
   "cell_type": "code",
   "execution_count": 8,
   "id": "dc6fd98d",
   "metadata": {},
   "outputs": [
    {
     "data": {
      "text/plain": [
       "887119872"
      ]
     },
     "execution_count": 8,
     "metadata": {},
     "output_type": "execute_result"
    }
   ],
   "source": [
    "from fms.modules.speculator import Speculator\n",
    "\n",
    "test = Speculator(n_heads=3)\n",
    "test.load_state_dict(torch.load(\"../../../specu_recur_n2.pth\", map_location=\"cpu\")[\"model_state\"])\n",
    "sum(p.numel() for p in test.parameters())"
   ]
  },
  {
   "cell_type": "code",
   "execution_count": 15,
   "id": "aecabfbb",
   "metadata": {},
   "outputs": [
    {
     "name": "stdout",
     "output_type": "stream",
     "text": [
      "Speculation: ['▁today', '▁is', '▁the', '▁day'] n_correct: 1\n",
      "Updated output: ['<s>', '▁Y', 'esterday', '▁is', '▁history', ',', '▁tom', 'orrow', '▁is', '▁a', '▁mystery', ',', '▁today', '▁is', '▁a']\n",
      "\n",
      "Speculation: ['▁a', '▁gift', '.', '<0x0A>'] n_correct: 3\n",
      "Updated output: ['<s>', '▁Y', 'esterday', '▁is', '▁history', ',', '▁tom', 'orrow', '▁is', '▁a', '▁mystery', ',', '▁today', '▁is', '▁a', '▁gift', '.', '<0x0A>', 'That']\n",
      "\n",
      "Speculation: ['That', \"'\", 's', '▁why'] n_correct: 3\n",
      "Updated output: ['<s>', '▁Y', 'esterday', '▁is', '▁history', ',', '▁tom', 'orrow', '▁is', '▁a', '▁mystery', ',', '▁today', '▁is', '▁a', '▁gift', '.', '<0x0A>', 'That', \"'\", 's', '▁why', '▁they']\n",
      "\n",
      "Speculation: ['▁they', '▁call', '▁it', '▁the'] n_correct: 3\n",
      "Updated output: ['<s>', '▁Y', 'esterday', '▁is', '▁history', ',', '▁tom', 'orrow', '▁is', '▁a', '▁mystery', ',', '▁today', '▁is', '▁a', '▁gift', '.', '<0x0A>', 'That', \"'\", 's', '▁why', '▁they', '▁call', '▁it', '▁the', '▁present']\n",
      "\n",
      "Speculation: ['▁present', '▁day', '▁is', '▁the'] n_correct: 0\n",
      "Updated output: ['<s>', '▁Y', 'esterday', '▁is', '▁history', ',', '▁tom', 'orrow', '▁is', '▁a', '▁mystery', ',', '▁today', '▁is', '▁a', '▁gift', '.', '<0x0A>', 'That', \"'\", 's', '▁why', '▁they', '▁call', '▁it', '▁the', '▁present', '.']\n",
      "\n",
      "Speculation: ['.', '<0x0A>', 'In', '▁the'] n_correct: 1\n",
      "Updated output: ['<s>', '▁Y', 'esterday', '▁is', '▁history', ',', '▁tom', 'orrow', '▁is', '▁a', '▁mystery', ',', '▁today', '▁is', '▁a', '▁gift', '.', '<0x0A>', 'That', \"'\", 's', '▁why', '▁they', '▁call', '▁it', '▁the', '▁present', '.', '<0x0A>', '<0x0A>']\n",
      "\n",
      "Speculation: ['<0x0A>', 'This', '▁is', '▁a'] n_correct: 1\n",
      "Updated output: ['<s>', '▁Y', 'esterday', '▁is', '▁history', ',', '▁tom', 'orrow', '▁is', '▁a', '▁mystery', ',', '▁today', '▁is', '▁a', '▁gift', '.', '<0x0A>', 'That', \"'\", 's', '▁why', '▁they', '▁call', '▁it', '▁the', '▁present', '.', '<0x0A>', '<0x0A>', 'This', '▁quote']\n",
      "\n",
      "Speculation: ['▁quote', '▁is', '▁a', '▁quote'] n_correct: 2\n",
      "Updated output: ['<s>', '▁Y', 'esterday', '▁is', '▁history', ',', '▁tom', 'orrow', '▁is', '▁a', '▁mystery', ',', '▁today', '▁is', '▁a', '▁gift', '.', '<0x0A>', 'That', \"'\", 's', '▁why', '▁they', '▁call', '▁it', '▁the', '▁present', '.', '<0x0A>', '<0x0A>', 'This', '▁quote', '▁is', '▁a', '▁rem']\n",
      "\n",
      "Speculation: ['▁rem', 'inder', '▁of', '▁the'] n_correct: 1\n",
      "Updated output: ['<s>', '▁Y', 'esterday', '▁is', '▁history', ',', '▁tom', 'orrow', '▁is', '▁a', '▁mystery', ',', '▁today', '▁is', '▁a', '▁gift', '.', '<0x0A>', 'That', \"'\", 's', '▁why', '▁they', '▁call', '▁it', '▁the', '▁present', '.', '<0x0A>', '<0x0A>', 'This', '▁quote', '▁is', '▁a', '▁rem', 'inder', '▁to']\n",
      "\n",
      "Speculation: ['▁to', '▁us', '▁that', '▁we'] n_correct: 0\n",
      "Updated output: ['<s>', '▁Y', 'esterday', '▁is', '▁history', ',', '▁tom', 'orrow', '▁is', '▁a', '▁mystery', ',', '▁today', '▁is', '▁a', '▁gift', '.', '<0x0A>', 'That', \"'\", 's', '▁why', '▁they', '▁call', '▁it', '▁the', '▁present', '.', '<0x0A>', '<0x0A>', 'This', '▁quote', '▁is', '▁a', '▁rem', 'inder', '▁to', '▁appreciate']\n",
      "\n",
      "Speculation: ['▁appreciate', '▁the', '▁moment', '.'] n_correct: 1\n",
      "Updated output: ['<s>', '▁Y', 'esterday', '▁is', '▁history', ',', '▁tom', 'orrow', '▁is', '▁a', '▁mystery', ',', '▁today', '▁is', '▁a', '▁gift', '.', '<0x0A>', 'That', \"'\", 's', '▁why', '▁they', '▁call', '▁it', '▁the', '▁present', '.', '<0x0A>', '<0x0A>', 'This', '▁quote', '▁is', '▁a', '▁rem', 'inder', '▁to', '▁appreciate', '▁the', '▁present']\n",
      "\n",
      "Speculation: ['▁present', '▁moment', '▁and', '▁to'] n_correct: 2\n",
      "Updated output: ['<s>', '▁Y', 'esterday', '▁is', '▁history', ',', '▁tom', 'orrow', '▁is', '▁a', '▁mystery', ',', '▁today', '▁is', '▁a', '▁gift', '.', '<0x0A>', 'That', \"'\", 's', '▁why', '▁they', '▁call', '▁it', '▁the', '▁present', '.', '<0x0A>', '<0x0A>', 'This', '▁quote', '▁is', '▁a', '▁rem', 'inder', '▁to', '▁appreciate', '▁the', '▁present', '▁moment', '▁and', '▁not']\n",
      "\n",
      "\n",
      "Steps: 12\n"
     ]
    }
   ],
   "source": [
    "from fms.utils.generation import speculative_generate\n",
    "\n",
    "out, steps = speculative_generate(model, inp, test, 30, 30, top_k=5, threshes=[10,3,2], verbose_dict=t.vocab)\n",
    "print()\n",
    "print(\"Steps:\", steps)"
   ]
  },
  {
   "cell_type": "code",
   "execution_count": null,
   "id": "0eeebbcd",
   "metadata": {},
   "outputs": [],
   "source": []
  },
  {
   "cell_type": "code",
   "execution_count": null,
   "id": "b2d584b1",
   "metadata": {},
   "outputs": [],
   "source": []
  },
  {
   "cell_type": "code",
   "execution_count": null,
   "id": "390bb815",
   "metadata": {},
   "outputs": [],
   "source": []
  },
  {
   "cell_type": "code",
   "execution_count": null,
   "id": "97d8c35c",
   "metadata": {},
   "outputs": [],
   "source": []
  }
 ],
 "metadata": {
  "kernelspec": {
   "display_name": "Python 3 (ipykernel)",
   "language": "python",
   "name": "python3"
  },
  "language_info": {
   "codemirror_mode": {
    "name": "ipython",
    "version": 3
   },
   "file_extension": ".py",
   "mimetype": "text/x-python",
   "name": "python",
   "nbconvert_exporter": "python",
   "pygments_lexer": "ipython3",
   "version": "3.8.18"
  }
 },
 "nbformat": 4,
 "nbformat_minor": 5
}
